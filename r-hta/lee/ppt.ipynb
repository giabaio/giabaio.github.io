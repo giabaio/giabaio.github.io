{
 "cells": [
  {
   "cell_type": "markdown",
   "metadata": {
    "slideshow": {
     "slide_type": "slide"
    }
   },
   "source": [
    "# Integrating Julia and R (Studio) for microsimulation modeling: challenges and rewards\n",
    "### Tae Yoon (Harry) Lee, Respiratory Evaluation Sciences Program, University of British Columbia\n",
    "### Canada Day (July 1)\n",
    "### R for HTA Showcase 2021"
   ]
  },
  {
   "cell_type": "markdown",
   "metadata": {
    "slideshow": {
     "slide_type": "slide"
    }
   },
   "source": [
    "# R suffers from the two-language problem\n",
    "\n",
    "* Microsimulation modeling is computationally intensive.\n",
    "\n",
    "* \"R is not necessarily an ideal language for computationally intensive processes.\"[1] \n",
    "\n",
    "* For high computational performance, C and Fortran are the gold standard. \n",
    "\n",
    "* Often, the core of the R code is re-written in C++ and seeminglessly integrated into R functions/packages through the Rcpp package.\n",
    "\n",
    "* However, low-level programming languages, such as C/C++ and Fortran, is an unfamiliar endeavor for many R programmers.\n",
    "\n",
    "* Is there a programming language like R that can provide high computational performance like C++?\n",
    "\n",
    " <center> <img src=\"julia_logo.png\" alt=\"julia\" width=\"200\"/> </center>"
   ]
  },
  {
   "cell_type": "markdown",
   "metadata": {
    "slideshow": {
     "slide_type": "slide"
    }
   },
   "source": [
    "# Julia hype train\n",
    "\n",
    "* First appeared in 2012, Julia is an open-source, high-level dynamic programming language that does not demand sacrificng human convenience for high performance.[2,3]\n",
    "* Although it is a general purpose programming language, it is specifically designed for scientific computing (developed at MIT).\n",
    "* \"It's not exactly ideal for building desktop applications or operating systems, and though you can use it for web programming, it's better suited to technical computing.\"[4]\n",
    "* In particular, its popularity has soared in the past 2-3 years among applied mathematicians, machine learning scientists, and computational statisticians.[5]\n",
    "* What is the common denominator? Numerical computation and iteration."
   ]
  },
  {
   "cell_type": "markdown",
   "metadata": {
    "slideshow": {
     "slide_type": "slide"
    }
   },
   "source": [
    "# Three main comparisons\n",
    "\n",
    "* Unlike R but like C++, Julia is a compiled language (although there is a subtle difference).\n",
    "* Like R but unlike C++, Julia is dynamically typed, i.e., you do not need to declare types like *int*, *float*, or *double*.\n",
    "* Julia employs a power programming paradigm called multiple dispatch; it is used extensively. Multiple dispatch has been made available in R through the S4 class and in C++ (see YOMM2).\n",
    "<style>\n",
    "td {\n",
    "  font-size: 20px\n",
    "}\n",
    "</style>\n",
    "\n",
    "|             | R                  | Julia        | C++           |\n",
    "|-------------|--------------------|--------------|---------------|\n",
    "| Compilation | None (interpreted) | Just-In-Time (JIT) | Ahead-Of-Time (AOT) |\n",
    "| Type system | Dyanmic            | Dynamic      | Static        |\n",
    "\n"
   ]
  },
  {
   "cell_type": "markdown",
   "metadata": {
    "slideshow": {
     "slide_type": "slide"
    }
   },
   "source": [
    "# Interpeted vs. JIT vs. AOT\n",
    "\n",
    "* Compilation means that the code is converted into machine code (which is the language that your computer can understand).\n",
    "* AOT compilers compile the code before the program runs it. You need to compile only once.\n",
    "* JIT compilers compile the code on the fly when the program runs it.  You need to compile again if you close and re-open the program.\n",
    "* For interpreted languages, the code needs to be translated each time you run it, making it inherently slow.\n",
    "* For microsimulation modeling, compilation is a must!"
   ]
  },
  {
   "cell_type": "code",
   "execution_count": 2,
   "metadata": {
    "scrolled": true,
    "slideshow": {
     "slide_type": "subslide"
    }
   },
   "outputs": [
    {
     "name": "stdout",
     "output_type": "stream",
     "text": [
      "  0.014783 seconds (3.74 k allocations: 177.685 KiB)\n",
      "  0.000078 seconds (1 allocation: 16 bytes)\n"
     ]
    }
   ],
   "source": [
    "# generate values from Uniform(0,1)\n",
    "x = rand(100000)\n",
    "\n",
    "# define a function that computes the average of a vector of numbers\n",
    "function compute_mean(α)\n",
    "    sum(α)/length(α)\n",
    "end\n",
    "\n",
    "# computes the wall-clock time\n",
    "@time compute_mean(x);\n",
    "@time compute_mean(x);  "
   ]
  },
  {
   "cell_type": "markdown",
   "metadata": {
    "slideshow": {
     "slide_type": "slide"
    }
   },
   "source": [
    "# Dynamic vs. Static [6]\n",
    "* In a static language, the type of every expression (i.e., a combination of values, function calls, variables, and operators) is defined.\n",
    "* On contrary, there is no specific type assigned to an expression in a dynamic language; the type is determined as the program executes. \n",
    "* Julia is  dynamically typed.\n",
    "* Julia's compiler performs type inference. It is not necessary for every expression to have an inferrable type.\n",
    "* The compiler analyzes the code, predicts the types of expressions, and then produces efficient machine code.\n",
    "* In Julia, an expression can be annoated with a type, but the annotated type does not assert the type of the expression. It simply indicates that the expression can be used only for the annoated type.\n",
    "* However, if you do annotations, then it may help the compiler generate more efficient machine code."
   ]
  },
  {
   "cell_type": "code",
   "execution_count": 3,
   "metadata": {
    "slideshow": {
     "slide_type": "notes"
    }
   },
   "outputs": [
    {
     "ename": "LoadError",
     "evalue": "syntax: extra token \"other\" after end of expression",
     "output_type": "error",
     "traceback": [
      "syntax: extra token \"other\" after end of expression",
      "",
      "Stacktrace:",
      " [1] top-level scope at In[3]:1",
      " [2] include_string(::Function, ::Module, ::String, ::String) at ./loading.jl:1091"
     ]
    }
   ],
   "source": [
    "In other words, types are a property of values, not expressions, and the resulting type of code is based on how the values flow and interact when the program executes."
   ]
  },
  {
   "cell_type": "code",
   "execution_count": 4,
   "metadata": {
    "slideshow": {
     "slide_type": "subslide"
    }
   },
   "outputs": [
    {
     "name": "stdout",
     "output_type": "stream",
     "text": [
      "(1 + 1)::Int = 2\n",
      "1 + 1.0 = 2.0\n"
     ]
    },
    {
     "ename": "LoadError",
     "evalue": "TypeError: in typeassert, expected Int64, got a value of type Float64",
     "output_type": "error",
     "traceback": [
      "TypeError: in typeassert, expected Int64, got a value of type Float64",
      "",
      "Stacktrace:",
      " [1] top-level scope at show.jl:641",
      " [2] include_string(::Function, ::Module, ::String, ::String) at ./loading.jl:1091"
     ]
    }
   ],
   "source": [
    "# type annotation example\n",
    "# :: is used to declare type\n",
    "@show (1+1)::Int\n",
    "@show (1+1.0)\n",
    "@show (1+1.0)::Int"
   ]
  },
  {
   "cell_type": "code",
   "execution_count": 5,
   "metadata": {
    "slideshow": {
     "slide_type": "subslide"
    }
   },
   "outputs": [
    {
     "name": "stdout",
     "output_type": "stream",
     "text": [
      "  0.022176 seconds (3.74 k allocations: 177.685 KiB)\n",
      "  0.000087 seconds (1 allocation: 16 bytes)\n",
      "  0.000070 seconds\n"
     ]
    }
   ],
   "source": [
    "# generate values from Uniform(0,1)\n",
    "x = rand(100000)\n",
    "\n",
    "# define a function that computes the average of a vector of numbers\n",
    "function compute_mean(α)\n",
    "    sum(α)/length(α)\n",
    "end\n",
    "\n",
    "# @time is a macro that computes the wall-clock time\n",
    "@time compute_mean(x);\n",
    "@time compute_mean(x);  \n",
    "\n",
    "# You can declare the type of the input\n",
    "function compute_mean_typed(α::Vector{Float64})\n",
    "    sum(α)/length(α)\n",
    "end\n",
    "@time compute_mean_typed(x);"
   ]
  },
  {
   "cell_type": "markdown",
   "metadata": {
    "slideshow": {
     "slide_type": "slide"
    }
   },
   "source": [
    "# Multiple Dispatch [7]\n",
    "\n",
    "* Multiple dispatch is an execution rule by which the behavior of a function is determined by the combination and count of input types of a function.\n",
    "* It is similar to function overloading in C++, but there is a subtle difference.\n",
    "    * Overloading is based on the static type, and hence the method is chosen at compile-time. \n",
    "    * Multiple dispatch is based on the dynamic type, meaning that the method is chosen at run-time. The actual input type might be different at run-time.\n",
    "* Its main benefits include: expressivity and code share/re-use.\n",
    "* Suppose you want to write a generic function that computes a quantile of a distribution.\n",
    "* In R, you would have to write many if-else statements that account for different distributions (qunif, qbinom, qnorm, qpois, etc). \n",
    "* In Julia, the same function *quantile* is used but behaves differently depending on the type of a distribution."
   ]
  },
  {
   "cell_type": "code",
   "execution_count": 6,
   "metadata": {
    "slideshow": {
     "slide_type": "subslide"
    }
   },
   "outputs": [
    {
     "name": "stdout",
     "output_type": "stream",
     "text": [
      "quantile.([Uniform(0, 1), Normal(0, 1), Poisson(1), rand(100)], 0.5) = Real[0.5, 0.0, 1, 0.45467727634503763]\n"
     ]
    },
    {
     "data": {
      "text/plain": [
       "quantile (generic function with 66 methods)"
      ]
     },
     "execution_count": 6,
     "metadata": {},
     "output_type": "execute_result"
    }
   ],
   "source": [
    "using Distributions\n",
    "# 50% quantile\n",
    "# \".\" is equivalent to broadcasting in Python or apply in R\n",
    "# quantile is also used to compute the quantile of a vector of numbers\n",
    "@show quantile.([Uniform(0,1),Normal(0,1),Poisson(1),rand(100)],0.5)\n",
    "\n",
    "# quantile has 66 different methods\n",
    "quantile"
   ]
  },
  {
   "cell_type": "code",
   "execution_count": 7,
   "metadata": {
    "slideshow": {
     "slide_type": "subslide"
    }
   },
   "outputs": [
    {
     "name": "stdout",
     "output_type": "stream",
     "text": [
      "methods(compute_mean_multiple) = # 2 methods for generic function \"compute_mean_multiple\":\n",
      "[1] compute_mean_multiple(α::Array{String,1}) in Main at In[7]:7\n",
      "[2] compute_mean_multiple(α::Array{Float64,1}) in Main at In[7]:2\n",
      "true\n"
     ]
    }
   ],
   "source": [
    "# input is a vector of float\n",
    "function compute_mean_multiple(α::Vector{Float64})\n",
    "    sum(α)/length(α)\n",
    "end\n",
    "\n",
    "# same function name but now the input is a vector of numeric strings \n",
    "function compute_mean_multiple(α::Vector{String})\n",
    "    α = parse.(Float64,α)\n",
    "    sum(α)/length(α)\n",
    "end\n",
    "\n",
    "@show methods(compute_mean_multiple);\n",
    "\n",
    "# sample from Unif(0,1)\n",
    "x=rand(10)\n",
    "# convert those numeric values into numeric strings\n",
    "s_x = string.(x)\n",
    "# check whether the outputs are equal\n",
    "println(compute_mean_multiple(x) == compute_mean_multiple(s_x))"
   ]
  },
  {
   "cell_type": "markdown",
   "metadata": {
    "slideshow": {
     "slide_type": "slide"
    }
   },
   "source": [
    "# What's bad about Julia?\n",
    "\n",
    "* Julia is still in infancy, and hence there is lack of handy packages.\n",
    "* In annual Julia conferences, core Julia developers discuss bad things about Julia and how they are planning to address them.\n",
    "* Integrating Julia into an R package might be an issue, depending on your need."
   ]
  },
  {
   "cell_type": "markdown",
   "metadata": {
    "slideshow": {
     "slide_type": "subslide"
    }
   },
   "source": [
    "# Integrating Julia into an R package\n",
    "\n",
    "* There are R packages (e.g., JuliaCall) that provide an interface to Julia in R.\n",
    "* You can use those packages to wrap a Julia package into an R package.\n",
    "* However, if there is a high start-up time, it will likely give an unpleasant experience for R users. Alternatively you might want to create an executable so that user do not need to have Julia installed on their machines.\n",
    "* There exists a solution using the package called PackageCompiler.jl, but it requires knowledge of C."
   ]
  },
  {
   "cell_type": "markdown",
   "metadata": {
    "slideshow": {
     "slide_type": "slide"
    }
   },
   "source": [
    "# My Julia journey for a microsimulation 'Whole Disease' model of asthma\n",
    "* Efficient.\n",
    "* Readability and accessibility.\n",
    "* Julia is written in Julia.\n",
    "* The package ecosystem is not as rich as R: great opportunity for learning and contributing to the ecosystem.\n",
    "* Achieving high performance can be challenging as it requires good understanding of Julia. \n",
    "* I have received great support from the community. One kindly reviewed my Julia code in-depth because he was:\n",
    " <center> <img src=\"bored.png\" alt=\"bored\" /> </center>"
   ]
  },
  {
   "cell_type": "markdown",
   "metadata": {
    "slideshow": {
     "slide_type": "slide"
    }
   },
   "source": [
    "# Summary\n",
    "\n",
    "* Julia is a high-level, dynamic programming language that can provide high performance.\n",
    "* Some belive Julia will become the defacto programming language for scientific computing.\n",
    "* Julia may be a good alternative to C/C++/Fortran. \n",
    "* There are two packages in Julia for microsimulation modeling: SimJulia.jl (equivalent to the simmer package in R) and Agents.jl."
   ]
  },
  {
   "cell_type": "markdown",
   "metadata": {
    "slideshow": {
     "slide_type": "slide"
    }
   },
   "source": [
    "# References\n",
    "1. Krijkamp EM, Alarid-Escudero F, Enns EA, Jalal HJ, Hunink MM, Pechlivanoglou P. Microsimulation modeling for health decision sciences using R: a tutorial. Medical Decision Making. 2018 Apr;38(3):400-22.\n",
    "2. Bezanson J, Karpinski S, Shah VB, Edelman A. Julia: A fast dynamic language for technical computing. arXiv preprint arXiv:1209.5145. 2012 Sep 24.\n",
    "3. Bezanson J, Edelman A, Karpinski S, Shah VB. Julia: A fresh approach to numerical computing. SIAM review. 2017;59(1):65-98.\n",
    "4. https://www.wired.com/2014/02/julia/\n",
    "5. https://towardsdatascience.com/what-you-need-to-know-about-julia-in-2021-22875f34465b\n",
    "6. https://stackoverflow.com/questions/28078089/is-julia-dynamically-typed\n",
    "7. JuliaCon 2019 | The Unreasonable Effectiveness of Multiple Dispatch | Stefan Karpinski\n"
   ]
  }
 ],
 "metadata": {
  "celltoolbar": "Slideshow",
  "kernelspec": {
   "display_name": "JuliaPro_v1.5.0-1 1.5.0",
   "language": "julia",
   "name": "juliapro_v1.5.0-1-1.5"
  },
  "language_info": {
   "file_extension": ".jl",
   "mimetype": "application/julia",
   "name": "julia",
   "version": "1.5.0"
  }
 },
 "nbformat": 4,
 "nbformat_minor": 4
}
